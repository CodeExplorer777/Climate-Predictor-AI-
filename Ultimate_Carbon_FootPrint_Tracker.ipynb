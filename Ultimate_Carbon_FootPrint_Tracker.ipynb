{
  "nbformat": 4,
  "nbformat_minor": 0,
  "metadata": {
    "colab": {
      "provenance": [],
      "authorship_tag": "ABX9TyP5bGc8xhlybi+u1Zv9rquf",
      "include_colab_link": true
    },
    "kernelspec": {
      "name": "python3",
      "display_name": "Python 3"
    },
    "language_info": {
      "name": "python"
    }
  },
  "cells": [
    {
      "cell_type": "markdown",
      "metadata": {
        "id": "view-in-github",
        "colab_type": "text"
      },
      "source": [
        "<a href=\"https://colab.research.google.com/github/CodeExplorer777/Climate-Predictor-AI-/blob/main/Ultimate_Carbon_FootPrint_Tracker.ipynb\" target=\"_parent\"><img src=\"https://colab.research.google.com/assets/colab-badge.svg\" alt=\"Open In Colab\"/></a>"
      ]
    },
    {
      "cell_type": "code",
      "execution_count": 9,
      "metadata": {
        "colab": {
          "base_uri": "https://localhost:8080/",
          "height": 602
        },
        "id": "T2TipCyOhWLU",
        "outputId": "d098a8a9-268f-4199-df55-af9a0231b571"
      },
      "outputs": [
        {
          "output_type": "stream",
          "name": "stdout",
          "text": [
            "🌍 Enter the following values:\n",
            "🌡️ Temperature (°C): 30\n",
            "💨 CO2 Level (ppm): 50\n",
            "🌧️ Rainfall (mm): 700\n",
            "🌲 Deforestation Level (1-5): 3\n",
            "🧠 Predicted Climate Risk Level: Low\n"
          ]
        },
        {
          "output_type": "stream",
          "name": "stderr",
          "text": [
            "/usr/local/lib/python3.11/dist-packages/IPython/core/pylabtools.py:151: UserWarning: Glyph 127757 (\\N{EARTH GLOBE EUROPE-AFRICA}) missing from font(s) DejaVu Sans.\n",
            "  fig.canvas.print_figure(bytes_io, **kw)\n"
          ]
        },
        {
          "output_type": "display_data",
          "data": {
            "text/plain": [
              "<Figure size 600x400 with 1 Axes>"
            ],
            "image/png": "[encoded data removed]"
          },
          "metadata": {}
        },
        {
          "output_type": "stream",
          "name": "stdout",
          "text": [
            "\n",
            "🔮 **Future Climate Risk Prediction**\n",
            "Based on current trends, the projected climate risk level in the near future could be: Low\n"
          ]
        }
      ],
      "source": [
        "# 📘 Climate Risk Predictor - AI Agent (UN SDG 13)\n",
        "# Author: [Your Name]\n",
        "# Goal: Predict climate impact risk based on user inputs\n",
        "\n",
        "# Step 1: Install & Import Libraries\n",
        "import pandas as pd\n",
        "import numpy as np\n",
        "import matplotlib.pyplot as plt\n",
        "from sklearn.tree import DecisionTreeClassifier\n",
        "from sklearn.model_selection import train_test_split\n",
        "from sklearn.metrics import classification_report\n",
        "import joblib\n",
        "\n",
        "# Step 2: Create or Load Dataset (Synthetic Sample)\n",
        "data = {\n",
        "    'temperature': np.random.normal(30, 5, 100),\n",
        "    'co2': np.random.normal(400, 50, 100),\n",
        "    'rainfall': np.random.normal(100, 30, 100),\n",
        "    'deforestation': np.random.randint(1, 5, 100),\n",
        "}\n",
        "\n",
        "df = pd.DataFrame(data)\n",
        "\n",
        "# Assign labels: 0 = Low, 1 = Medium, 2 = High Climate Risk\n",
        "def classify(row):\n",
        "    score = 0\n",
        "    if row['temperature'] > 35: score += 1\n",
        "    if row['co2'] > 450: score += 1\n",
        "    if row['rainfall'] < 80: score += 1\n",
        "    if row['deforestation'] > 2: score += 1\n",
        "    if score <= 1: return 0\n",
        "    elif score == 2: return 1\n",
        "    else: return 2\n",
        "\n",
        "df['risk'] = df.apply(classify, axis=1)\n",
        "\n",
        "# Step 3: Train the Model\n",
        "X = df[['temperature', 'co2', 'rainfall', 'deforestation']]\n",
        "y = df['risk']\n",
        "\n",
        "X_train, X_test, y_train, y_test = train_test_split(X, y, test_size=0.2)\n",
        "model = DecisionTreeClassifier()\n",
        "model.fit(X_train, y_train)\n",
        "\n",
        "# Save model\n",
        "joblib.dump(model, 'climate_risk_model.pkl')\n",
        "\n",
        "# Step 4: Allow Manual User Input\n",
        "print(\"🌍 Enter the following values:\")\n",
        "user_input = {\n",
        "    \"temperature\": float(input(\"🌡️ Temperature (°C): \")),\n",
        "    \"co2\": float(input(\"💨 CO2 Level (ppm): \")),\n",
        "    \"rainfall\": float(input(\"🌧️ Rainfall (mm): \")),\n",
        "    \"deforestation\": float(input(\"🌲 Deforestation Level (1-5): \"))\n",
        "}\n",
        "\n",
        "user_df = pd.DataFrame([user_input])\n",
        "\n",
        "# Step 5: Predict Climate Risk\n",
        "label_map = {0: \"Low\", 1: \"Medium\", 2: \"High\"}\n",
        "prediction = model.predict(user_df)[0]\n",
        "print(\"🧠 Predicted Climate Risk Level:\", label_map[prediction])\n",
        "\n",
        "# Step 6: Visualize Results\n",
        "plt.figure(figsize=(6,4))\n",
        "plt.bar(user_df.columns, user_df.values[0], color='skyblue')\n",
        "plt.title(f\"🌍 Input Parameters - Risk: {label_map[prediction]}\")\n",
        "plt.ylabel(\"Value\")\n",
        "plt.grid(True)\n",
        "plt.show()\n",
        "\n",
        "\n",
        "\n",
        "future_temp = user_input['temperature'] + 1.5  # Simulate global warming\n",
        "future_co2 = user_input['co2'] + 30            # Increase in CO2\n",
        "future_rainfall = user_input['rainfall'] - 10  # Slight drop in rainfall\n",
        "future_deforestation = min(user_input['deforestation'] + 1, 5)  # Cap at 5\n",
        "\n",
        "future_input = pd.DataFrame([{\n",
        "    \"temperature\": future_temp,\n",
        "    \"co2\": future_co2,\n",
        "    \"rainfall\": future_rainfall,\n",
        "    \"deforestation\": future_deforestation\n",
        "}])\n",
        "\n",
        "future_pred = model.predict(future_input)[0]\n",
        "future_label = label_map[future_pred]\n",
        "\n",
        "print(\"\\n🔮 **Future Climate Risk Prediction**\")\n",
        "print(f\"Based on current trends, the projected climate risk level in the near future could be: {future_label}\")\n"
      ]
    }
  ]
}